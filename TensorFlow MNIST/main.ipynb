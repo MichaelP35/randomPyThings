{
 "cells": [
  {
   "cell_type": "code",
   "execution_count": 2,
   "metadata": {
    "collapsed": true
   },
   "outputs": [
    {
     "name": "stdout",
     "output_type": "stream",
     "text": [
      "WARNING:tensorflow:From /home/snake/.local/lib/python3.6/site-packages/tensorflow/python/ops/resource_variable_ops.py:435: colocate_with (from tensorflow.python.framework.ops) is deprecated and will be removed in a future version.\nInstructions for updating:\nColocations handled automatically by placer.\n"
     ]
    },
    {
     "name": "stdout",
     "output_type": "stream",
     "text": [
      "WARNING:tensorflow:Sequential models without an `input_shape` passed to the first layer cannot reload their optimizer state. As a result, your model isstarting with a freshly initialized optimizer.\n"
     ]
    }
   ],
   "source": [
    "import tensorflow as tf  # Google's Deep Learning Library\n",
    "\n",
    "mnist = tf.keras.datasets.mnist  # Dataset Of 28x28 Images Of Handwritten Digits\n",
    "(x_train, y_train), (x_test, y_test) = mnist.load_data()  # Unpacks Images to x_train/x_test and y_train/y_test\n",
    "\n",
    "new_model = tf.keras.models.load_model('TensorFlow MNIST/mnist-test.model')\n"
   ]
  },
  {
   "cell_type": "code",
   "execution_count": 4,
   "metadata": {},
   "outputs": [
    {
     "name": "stdout",
     "output_type": "stream",
     "text": [
      "7\n"
     ]
    }
   ],
   "source": [
    "import numpy as np  # Needed To Load Data\n",
    "import matplotlib.pyplot as plt  # Needed To Show Digit\n",
    "\n",
    "plt.imshow(x_test[0], cmap=plt.cm.binary)  # Color Digit in Black And White\n",
    "plt.show()  # Show Digit\n",
    "\n",
    "predictions = new_model.predict(x_test)  # Make A Prediction\n",
    "print(np.argmax(predictions[0]))  # Print Prediction"
   ]
  },
  {
   "cell_type": "code",
   "execution_count": null,
   "metadata": {},
   "outputs": [],
   "source": []
  }
 ],
 "metadata": {
  "kernelspec": {
   "display_name": "Python 2",
   "language": "python",
   "name": "python2"
  },
  "language_info": {
   "codemirror_mode": {
    "name": "ipython",
    "version": 2
   },
   "file_extension": ".py",
   "mimetype": "text/x-python",
   "name": "python",
   "nbconvert_exporter": "python",
   "pygments_lexer": "ipython2",
   "version": "2.7.6"
  }
 },
 "nbformat": 4,
 "nbformat_minor": 0
}
